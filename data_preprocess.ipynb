{
 "cells": [
  {
   "cell_type": "markdown",
   "metadata": {},
   "source": [
    "# Required python packages"
   ]
  },
  {
   "cell_type": "code",
   "execution_count": 1,
   "metadata": {},
   "outputs": [],
   "source": [
    "import pandas as pd\n",
    "from datetime import datetime\n",
    "import warnings"
   ]
  },
  {
   "cell_type": "markdown",
   "metadata": {},
   "source": [
    "# Suppress any unimportant warnings"
   ]
  },
  {
   "cell_type": "code",
   "execution_count": 2,
   "metadata": {},
   "outputs": [],
   "source": [
    "warnings.filterwarnings(\"ignore\")"
   ]
  },
  {
   "cell_type": "markdown",
   "metadata": {},
   "source": [
    "# Setting date format DD-MM-YYYY for \"Order Date\" and \"Ship Date\""
   ]
  },
  {
   "cell_type": "code",
   "execution_count": 12,
   "metadata": {},
   "outputs": [],
   "source": [
    "data = pd.read_csv(\"data_v1.csv\")\n",
    "dates_data = pd.read_csv('dates.csv')\n",
    "col, row = dates_data.shape\n",
    "for i in range(col):\n",
    "    for j in range(row):\n",
    "        if \"/\" in dates_data.iloc[i,j]:\n",
    "            month, day, year = map(int, dates_data.iloc[i,j].split('/'))\n",
    "            string = str(day)+\"/\"+str(month)+\"/\"+str(year)\n",
    "            date_string = datetime.strptime(string, \"%d/%m/%Y\").strftime(\"%d-%m-%Y\")\n",
    "            dates_data.iloc[i,j] = date_string\n",
    "        else:\n",
    "            date_string = datetime.strptime(dates_data.iloc[i,j], \"%d-%m-%Y\").strftime(\"%d-%m-%Y\")\n",
    "            dates_data.iloc[i,j] = date_string\n",
    "\n",
    "data['Order Date'] = dates_data['Order Date']\n",
    "data['Ship Date'] = dates_data['Ship Date']"
   ]
  },
  {
   "cell_type": "markdown",
   "metadata": {},
   "source": [
    "# The \"Order Priority\" columns has four different types of values as found below with their respective frequencies"
   ]
  },
  {
   "cell_type": "code",
   "execution_count": 15,
   "metadata": {},
   "outputs": [
    {
     "data": {
      "text/plain": [
       "H    30\n",
       "L    27\n",
       "C    22\n",
       "M    21\n",
       "Name: Order Priority, dtype: int64"
      ]
     },
     "execution_count": 15,
     "metadata": {},
     "output_type": "execute_result"
    }
   ],
   "source": [
    "data['Order Priority'].value_counts()"
   ]
  },
  {
   "cell_type": "markdown",
   "metadata": {},
   "source": [
    "# Below code block will rename \"C\" as \"Critical\", \"H\" as \"High\", \"M\" as \"Medium\" and \"L\" as \"Low\""
   ]
  },
  {
   "cell_type": "code",
   "execution_count": 16,
   "metadata": {},
   "outputs": [],
   "source": [
    "for i in range(len(data['Order Priority'])):\n",
    "    if data.iloc[i, 4] == \"C\":\n",
    "        data.iloc[i, 4] = \"Critical\"\n",
    "    elif data.iloc[i, 4] == \"H\":\n",
    "        data.iloc[i, 4] = \"High\"\n",
    "    elif data.iloc[i, 4] == \"M\":\n",
    "        data.iloc[i, 4] = \"Medium\"\n",
    "    else:\n",
    "        data.iloc[i, 4] = \"Low\""
   ]
  },
  {
   "cell_type": "markdown",
   "metadata": {},
   "source": [
    "# Check for NAN\n",
    "#### Below code shows that there are not any NULL values"
   ]
  },
  {
   "cell_type": "code",
   "execution_count": 17,
   "metadata": {},
   "outputs": [
    {
     "data": {
      "text/plain": [
       "Region            0\n",
       "Country           0\n",
       "Item Type         0\n",
       "Sales Channel     0\n",
       "Order Priority    0\n",
       "Order Date        0\n",
       "Order ID          0\n",
       "Ship Date         0\n",
       "Units Sold        0\n",
       "Unit Price        0\n",
       "Unit Cost         0\n",
       "Total Revenue     0\n",
       "Total Cost        0\n",
       "Total Profit      0\n",
       "dtype: int64"
      ]
     },
     "execution_count": 17,
     "metadata": {},
     "output_type": "execute_result"
    }
   ],
   "source": [
    "data.isna().sum()"
   ]
  },
  {
   "cell_type": "markdown",
   "metadata": {},
   "source": [
    "# Check for duplicates\n",
    "#### Below code shows that there are no duplicate entries"
   ]
  },
  {
   "cell_type": "code",
   "execution_count": 18,
   "metadata": {},
   "outputs": [
    {
     "data": {
      "text/plain": [
       "0"
      ]
     },
     "execution_count": 18,
     "metadata": {},
     "output_type": "execute_result"
    }
   ],
   "source": [
    "data.duplicated().sum()"
   ]
  },
  {
   "cell_type": "markdown",
   "metadata": {},
   "source": [
    "# Sign validation\n",
    "#### The fields Order ID, Units Sold, Unit Price, Unit Cost, Total Revenue can not be negative"
   ]
  },
  {
   "cell_type": "code",
   "execution_count": 19,
   "metadata": {},
   "outputs": [],
   "source": [
    "def sign_validate(column_index):\n",
    "    negative_value_count = 0\n",
    "    invalid_message = \"Invalid value found for column index \" + str(column_index)\n",
    "    valid_message = \"Column with index \" + str(column_index) + \" is valid\"\n",
    "    for i in range(len(data['Order Priority'])):\n",
    "        if data.iloc[i, column_index]<0:\n",
    "            negative_value_count = negative_value_count + 1\n",
    "    if negative_value_count > 0:\n",
    "        return invalid_message\n",
    "    else:\n",
    "        return valid_message"
   ]
  },
  {
   "cell_type": "code",
   "execution_count": 21,
   "metadata": {},
   "outputs": [
    {
     "data": {
      "text/plain": [
       "('Column with index 6 is valid',\n",
       " 'Column with index 8 is valid',\n",
       " 'Column with index 9 is valid',\n",
       " 'Column with index 10 is valid',\n",
       " 'Column with index 11 is valid')"
      ]
     },
     "execution_count": 21,
     "metadata": {},
     "output_type": "execute_result"
    }
   ],
   "source": [
    "sign_validate(6), sign_validate(8), sign_validate(9), sign_validate(10), sign_validate(11)"
   ]
  },
  {
   "cell_type": "markdown",
   "metadata": {},
   "source": [
    "#### Now all fields are valid. Further analysis is performed in Tableau"
   ]
  },
  {
   "cell_type": "markdown",
   "metadata": {},
   "source": [
    "# Saving the corrected data"
   ]
  },
  {
   "cell_type": "code",
   "execution_count": 22,
   "metadata": {},
   "outputs": [],
   "source": [
    "data.to_csv('data_v2.csv', index=False)"
   ]
  }
 ],
 "metadata": {
  "kernelspec": {
   "display_name": "Python 3",
   "language": "python",
   "name": "python3"
  },
  "language_info": {
   "codemirror_mode": {
    "name": "ipython",
    "version": 3
   },
   "file_extension": ".py",
   "mimetype": "text/x-python",
   "name": "python",
   "nbconvert_exporter": "python",
   "pygments_lexer": "ipython3",
   "version": "3.10.5"
  }
 },
 "nbformat": 4,
 "nbformat_minor": 2
}
